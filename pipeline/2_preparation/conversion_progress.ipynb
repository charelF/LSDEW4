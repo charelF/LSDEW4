{
 "cells": [
  {
   "cell_type": "markdown",
   "metadata": {},
   "source": [
    "# Conversion progress\n",
    "\n",
    "This notebook is used in combination with the `current_dates.scala` script to determine the progress of the conversion."
   ]
  },
  {
   "cell_type": "code",
   "execution_count": 1,
   "id": "fbc23d59-0a08-45e7-9d46-774923ca7047",
   "metadata": {},
   "outputs": [
    {
     "name": "stderr",
     "output_type": "stream",
     "text": [
      "/Users/gmr/.pyenv/versions/3.9.7/envs/lsde/lib/python3.9/site-packages/pandas/compat/__init__.py:124: UserWarning: Could not import the lzma module. Your installed Python is incomplete. Attempting to use lzma compression will result in a RuntimeError.\n",
      "  warnings.warn(msg)\n"
     ]
    }
   ],
   "source": [
    "import pandas as pd\n",
    "from datetime import date, timedelta"
   ]
  },
  {
   "cell_type": "code",
   "execution_count": 2,
   "id": "5a5db777-df3a-47d6-961e-b2720776c70a",
   "metadata": {},
   "outputs": [],
   "source": [
    "df = pd.read_parquet(\"../../data/small/current-dates.parquet\")"
   ]
  },
  {
   "cell_type": "code",
   "execution_count": 3,
   "id": "4c9be466-6893-4bb3-ae73-48d5a1f93e7b",
   "metadata": {},
   "outputs": [],
   "source": [
    "df[\"available\"] = 1"
   ]
  },
  {
   "cell_type": "code",
   "execution_count": 4,
   "id": "1ab34b8e-b349-4b7e-81ab-4ffc5e031f39",
   "metadata": {},
   "outputs": [],
   "source": [
    "available_dates = set(df[\"date\"])"
   ]
  },
  {
   "cell_type": "code",
   "execution_count": 5,
   "id": "9243894f-0162-4d8c-afaa-1433ae35ad14",
   "metadata": {},
   "outputs": [],
   "source": [
    "start_date = date(2018, 1, 1)\n",
    "end_date = date(2021, 10, 4)\n",
    "\n",
    "current_date = start_date\n",
    "\n",
    "missing = []\n",
    "available = 0\n",
    "\n",
    "date_blocks = []\n",
    "block_start, block_end = current_date, None\n",
    "inside_block = False\n",
    "\n",
    "while current_date != end_date-timedelta(days=1):\n",
    "    datefmt = current_date.isoformat()\n",
    "    next_date = current_date + timedelta(days=1)\n",
    "\n",
    "    if current_date.isoformat() in available_dates:\n",
    "        if not inside_block:\n",
    "            inside_block = True\n",
    "            block_start = current_date\n",
    "        \n",
    "    if next_date.isoformat() in available_dates:\n",
    "        block_end = next_date\n",
    "    else:\n",
    "        if inside_block:\n",
    "            date_blocks.append((block_start, block_end))\n",
    "        inside_block = False\n",
    "        start_date = current_date\n",
    "        block_end = None\n",
    "    \n",
    "    current_date = next_date"
   ]
  },
  {
   "cell_type": "code",
   "execution_count": 6,
   "id": "354f4e73-5d2e-4c31-b7f1-834ae19e6640",
   "metadata": {},
   "outputs": [
    {
     "data": {
      "text/plain": [
       "[(datetime.date(2018, 1, 1), datetime.date(2018, 1, 31)),\n",
       " (datetime.date(2018, 3, 1), datetime.date(2018, 7, 31)),\n",
       " (datetime.date(2018, 9, 1), datetime.date(2018, 11, 30)),\n",
       " (datetime.date(2019, 8, 1), datetime.date(2019, 10, 12)),\n",
       " (datetime.date(2019, 11, 1), datetime.date(2019, 11, 5)),\n",
       " (datetime.date(2020, 1, 1), datetime.date(2020, 1, 21)),\n",
       " (datetime.date(2020, 2, 1), datetime.date(2020, 3, 31)),\n",
       " (datetime.date(2021, 1, 1), datetime.date(2021, 1, 16)),\n",
       " (datetime.date(2021, 2, 1), datetime.date(2021, 4, 30))]"
      ]
     },
     "execution_count": 6,
     "metadata": {},
     "output_type": "execute_result"
    }
   ],
   "source": [
    "date_blocks"
   ]
  },
  {
   "cell_type": "code",
   "execution_count": 7,
   "id": "fd053134-e202-44a2-a92d-fc399f1945c1",
   "metadata": {},
   "outputs": [
    {
     "data": {
      "text/plain": [
       "530"
      ]
     },
     "execution_count": 7,
     "metadata": {},
     "output_type": "execute_result"
    }
   ],
   "source": [
    "sum([(end-start).days for (start, end) in date_blocks])"
   ]
  },
  {
   "cell_type": "code",
   "execution_count": 8,
   "id": "ec17b025-3659-47dc-96cc-88b2c17bb796",
   "metadata": {},
   "outputs": [
    {
     "data": {
      "text/plain": [
       "539"
      ]
     },
     "execution_count": 8,
     "metadata": {},
     "output_type": "execute_result"
    }
   ],
   "source": [
    "len(available_dates)"
   ]
  },
  {
   "cell_type": "code",
   "execution_count": 9,
   "id": "ce755352-81e4-427a-91bb-af1040b9d673",
   "metadata": {},
   "outputs": [
    {
     "data": {
      "text/plain": [
       "(0, 0)"
      ]
     },
     "execution_count": 9,
     "metadata": {},
     "output_type": "execute_result"
    }
   ],
   "source": [
    "len(missing), available"
   ]
  },
  {
   "cell_type": "code",
   "execution_count": 10,
   "id": "5ab0765e-459c-4b11-b43c-1ddd2d7f9f54",
   "metadata": {},
   "outputs": [
    {
     "data": {
      "text/plain": [
       "datetime.timedelta(days=2)"
      ]
     },
     "execution_count": 10,
     "metadata": {},
     "output_type": "execute_result"
    }
   ],
   "source": [
    "end_date - start_date"
   ]
  }
 ],
 "metadata": {
  "interpreter": {
   "hash": "1378ae05e8765b9d546fa93b03f47071e4439ea71483d80f411d21dcccc7232c"
  },
  "kernelspec": {
   "display_name": "Python 3.9.7 64-bit ('lsde': pyenv)",
   "name": "python3"
  },
  "language_info": {
   "codemirror_mode": {
    "name": "ipython",
    "version": 3
   },
   "file_extension": ".py",
   "mimetype": "text/x-python",
   "name": "python",
   "nbconvert_exporter": "python",
   "pygments_lexer": "ipython3",
   "version": "3.9.7"
  }
 },
 "nbformat": 4,
 "nbformat_minor": 5
}
