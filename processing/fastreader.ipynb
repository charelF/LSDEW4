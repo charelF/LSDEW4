{
 "cells": [
  {
   "cell_type": "code",
   "execution_count": 5,
   "source": [
    "from tqdm import tqdm\n",
    "\n",
    "bigfilepath = \"../data/pageviews-20210101-automated\"\n",
    "smallfilepath = \"../exploration/sample.txt\"\n",
    "outputfilepath = \"../data/output_test\""
   ],
   "outputs": [],
   "metadata": {}
  },
  {
   "cell_type": "code",
   "execution_count": 10,
   "source": [
    "outstring = \"\"\n",
    "max_iterations = 10 * 1000 * 10\n",
    "\n",
    "code_to_hour_dic = {letter:str(num) for num,letter in enumerate(\"ABCDEFGHIJKLMNOPQRSTUVWXYZ\")}\n",
    "\n",
    "with open(bigfilepath) as infile:\n",
    "    for i, line in tqdm(enumerate(infile)):\n",
    "        # split line into list of words\n",
    "        wordlist = line.split(\" \")\n",
    "\n",
    "        if len(wordlist) == 6:\n",
    "            # the case where we have an ID\n",
    "            if wordlist[3].isnumeric():\n",
    "                # the case where ID is at correct position\n",
    "                # or case where ID and article title numeric --> then we cant change them anyway because we dont know which is correct\n",
    "                continue\n",
    "            else:\n",
    "                # since there is an ID, we need to check if it is null or whether it is the article title and is switched with id\n",
    "                # null 1234 --> article is null, with ID 1234 --> UNSOVABLY AMBIGIOUS\n",
    "                # 1234 null --> article is 1234, with ID null --> UNSOVABLY AMBIGIOUS\n",
    "                # --> for the above case, we will simply take as is, and hope its correct\n",
    "                # abcd null --> article is abcd, with ID null\n",
    "                # null abcd --> article is abcd, with ID null, places were switched\n",
    "                pass  # for now\n",
    "        else:\n",
    "            # the case where we do not have an ID\n",
    "            wordlist.insert(2, \"null\")\n",
    "\n",
    "        # now we divide to days\n",
    "        wordlists = []\n",
    "\n",
    "        # divide last string into separate entries\n",
    "        count = \"\"\n",
    "        time = \"\"\n",
    "        first = True\n",
    "        for symbol in wordlist[-1]:\n",
    "            if symbol.isalpha():\n",
    "                if not first:\n",
    "                    # if this is not the first iteration, count is a valid number and time has also been set\n",
    "                    # since its not the first, we just encountered a letter again, hence we write to the wordlists\n",
    "                    # we write the original list, without the A1B2C3 string and instead encoding the first pair A1 to time: 0, count: 1\n",
    "                    wordlists.append(wordlist[:-1] + [time, count])\n",
    "                    count = \"\"\n",
    "                else: first = False  # if it was the first, the next one wont be the first\n",
    "                # in any case we get the time                    \n",
    "                time = code_to_hour_dic[symbol]\n",
    "            elif symbol.isnumeric():\n",
    "                count += symbol\n",
    "            elif symbol == \"\\n\":\n",
    "                # we arrived at the end\n",
    "                wordlists.append(wordlist[:-1] + [time, count])\n",
    "                break\n",
    "        # now we have a wordlists which contains the counts split by hour\n",
    "\n",
    "        # recombine cleaned list of words into line\n",
    "        for wordlist in wordlists:\n",
    "            outstring += \" \".join(wordlist) + \"\\n\"\n",
    "        if i > max_iterations:\n",
    "            break\n",
    "\n",
    "with open(outputfilepath, \"w\") as outfile:\n",
    "    outfile.write(outstring)"
   ],
   "outputs": [
    {
     "output_type": "stream",
     "name": "stderr",
     "text": [
      "100001it [00:00, 270850.57it/s]\n"
     ]
    }
   ],
   "metadata": {}
  },
  {
   "cell_type": "code",
   "execution_count": 9,
   "source": [
    "!head -n10 \"../data/output_test\""
   ],
   "outputs": [
    {
     "output_type": "stream",
     "name": "stdout",
     "text": [
      "aa.wikibooks Main_Page null desktop 8 5 8\n",
      "aa.wikibooks Special:Book null desktop 1 5 1\n",
      "aa.wikibooks Special:CiteThisPage null desktop 1 5 1\n",
      "aa.wikibooks Special:DownloadAsPdf null desktop 1 5 1\n",
      "aa.wikibooks Special:SpecialPages null desktop 1 5 1\n",
      "aa.wikibooks Special:UserLogin null desktop 1 5 1\n",
      "aa.wikipedia Special:Statistics null desktop 24 0 1\n",
      "aa.wikipedia Special:Statistics null desktop 24 1 1\n",
      "aa.wikipedia Special:Statistics null desktop 24 2 1\n",
      "aa.wikipedia Special:Statistics null desktop 24 3 1\n"
     ]
    }
   ],
   "metadata": {}
  },
  {
   "cell_type": "code",
   "execution_count": 46,
   "source": [
    "# !head -n10 \"../exploration/sample.txt\" && echo \"\" && head -n10 \"../data/output_test\""
   ],
   "outputs": [],
   "metadata": {}
  },
  {
   "cell_type": "code",
   "execution_count": null,
   "source": [],
   "outputs": [],
   "metadata": {}
  }
 ],
 "metadata": {
  "orig_nbformat": 4,
  "language_info": {
   "name": "python",
   "version": "3.9.7",
   "mimetype": "text/x-python",
   "codemirror_mode": {
    "name": "ipython",
    "version": 3
   },
   "pygments_lexer": "ipython3",
   "nbconvert_exporter": "python",
   "file_extension": ".py"
  },
  "kernelspec": {
   "name": "python3",
   "display_name": "Python 3.9.7 64-bit"
  },
  "interpreter": {
   "hash": "aee8b7b246df8f9039afb4144a1f6fd8d2ca17a180786b69acc140d282b71a49"
  }
 },
 "nbformat": 4,
 "nbformat_minor": 2
}