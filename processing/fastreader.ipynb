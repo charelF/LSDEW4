{
 "cells": [
  {
   "cell_type": "code",
   "execution_count": 3,
   "source": [
    "bigfilepath = \"../data/pageviews-20210101-automated\"\n",
    "smallfilepath = \"../exploration/sample.txt\""
   ],
   "outputs": [],
   "metadata": {}
  },
  {
   "cell_type": "code",
   "execution_count": 6,
   "source": [
    "bufsize = 65536\n",
    "numlines = 0\n",
    "maxnumlines = 10000000\n",
    "with open(smallfilepath) as infile:\n",
    "    while True:\n",
    "        numlines += bufsize\n",
    "        lines = infile.readlines(bufsize)\n",
    "        # print(lines)\n",
    "        if not lines:\n",
    "            break\n",
    "        if numlines = \n",
    "        for line in lines:\n",
    "            entry = line.split(\" \")\n",
    "            # print(entry)\n",
    "    "
   ],
   "outputs": [
    {
     "output_type": "stream",
     "name": "stdout",
     "text": [
      "['en.wikipedia', 'Ānanda', '1735', 'desktop', '3', 'P1V1W1\\n']\n",
      "['en.wikipedia', 'Škovec,_Trebnje', '30815184', 'desktop', '1', 'I1\\n']\n",
      "['en.wikipedia', '̌', '236552', 'desktop', '3', 'E1F1G1\\n']\n",
      "['en.wikipedia', '่', '63731', 'desktop', '1', 'F1\\n']\n",
      "['en.wikipedia', '∿', '324749', 'desktop', '3', 'F1M1X1\\n']\n",
      "['en.wikipedia', '🇹🇱', '459021', 'desktop', '1', 'F1\\n']\n",
      "['en.wikipedia', '🦥', '5168174', 'desktop', '2', 'F1S1\\n']\n",
      "['en.wikipedia', '-', '1066347', 'desktop', '2', 'O1P1\\n']\n",
      "['en.wikipedia', '-', '1076845', 'desktop', '1', 'P1\\n']\n",
      "['en.wikipedia', '-', '1107266', 'desktop', '1', 'M1\\n']\n",
      "['en.wikipedia', '-', '111765', 'desktop', '1', 'T1\\n']\n",
      "['ar.wikipedia', 'صاروخ_باليستي_عابر_للقارات', '240808', 'desktop', '1', 'F1\\n']\n",
      "['ar.wikipedia', 'عصور_وسطى_متوسطة', '471789', 'desktop', '1', 'P1Q1\\n']\n",
      "['en.wikipedia', 'Talk:H:IPA', 'null', 'desktop', '2', 'J2\\n']\n",
      "['fi.wikipedia', '1738', '2250', 'desktop', '1', 'S1\\n']\n",
      "['hi.wikipedia', 'मलाना_हिल्स_हिमाचल', '1186807', 'desktop', '1', 'S1\\n']\n",
      "['zh.wikisource', '第六届全国人民代表大会第三次会议关于批准《中华人民共和国政府和大不列颠及北爱尔兰联合王国政府关于香港问题的联合声明》的决定', '650212', 'desktop', '2', 'W2\\n']\n",
      "['als.wikipedia', '808', '64376', 'desktop', '1', 'P1\\n']\n",
      "['als.wikipedia', 'A', 'desktop', '1', 'I1\\n']\n",
      "['als.wikipedia', 'Ada_Lovelace', '51323', 'mobile-web', '1', 'P1']\n"
     ]
    }
   ],
   "metadata": {}
  },
  {
   "cell_type": "code",
   "execution_count": null,
   "source": [],
   "outputs": [],
   "metadata": {}
  }
 ],
 "metadata": {
  "orig_nbformat": 4,
  "language_info": {
   "name": "python",
   "version": "3.9.7",
   "mimetype": "text/x-python",
   "codemirror_mode": {
    "name": "ipython",
    "version": 3
   },
   "pygments_lexer": "ipython3",
   "nbconvert_exporter": "python",
   "file_extension": ".py"
  },
  "kernelspec": {
   "name": "python3",
   "display_name": "Python 3.9.7 64-bit"
  },
  "interpreter": {
   "hash": "aee8b7b246df8f9039afb4144a1f6fd8d2ca17a180786b69acc140d282b71a49"
  }
 },
 "nbformat": 4,
 "nbformat_minor": 2
}