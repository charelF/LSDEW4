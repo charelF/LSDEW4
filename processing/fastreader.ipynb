{
 "cells": [
  {
   "cell_type": "code",
   "execution_count": 5,
   "source": [
    "from tqdm import tqdm\n",
    "\n",
    "bigfilepath = \"../data/pageviews-20210101-automated\"\n",
    "smallfilepath = \"../exploration/sample.txt\"\n",
    "outputfilepath = \"../data/output_test\""
   ],
   "outputs": [],
   "metadata": {}
  },
  {
   "cell_type": "code",
   "execution_count": 31,
   "source": [
    "outstring = \"\"\n",
    "max_iterations = 10 * 1000 * 1000\n",
    "\n",
    "code_to_hour_dic = {letter:str(num) for num,letter in enumerate(\"ABCDEFGHIJKLMNOPQRSTUVWXYZ\")}\n",
    "\n",
    "with open(bigfilepath) as infile:\n",
    "    for i, line in tqdm(enumerate(infile)):\n",
    "        # split line into list of words\n",
    "        wordlist = line.split(\" \")\n",
    "\n",
    "        if len(wordlist) == 6:\n",
    "            # the case where we have an ID\n",
    "            if wordlist[2].isnumeric() or wordlist[2] == \"null\":\n",
    "                # the case where a numeric value (or null) is at third position\n",
    "                # so:\n",
    "                    # title: abcd, id:1234\n",
    "                    # title: abcd, id:null\n",
    "                    # title: 1234, id:1234\n",
    "                    # title: 1234, id:null\n",
    "                pass\n",
    "            else:\n",
    "                # case where there is a word at third position that is neither numeric nor null\n",
    "                # so:\n",
    "                    # title: 1234, id:abcd --> swap\n",
    "                    # title: abcd, id:abcd --> ???\n",
    "                    # title: null, id:abcd --> swap\n",
    "                # we swap, if the value at 2nd position is either null or numeric\n",
    "                if wordlist[1].isalpha() or (wordlist[1] == \"null\"):\n",
    "                    wordlist[1], wordlist[2] = wordlist[2], wordlist[1]\n",
    "        else:\n",
    "            # the case where we do not have an ID\n",
    "            wordlist.insert(2, \"null\")\n",
    "\n",
    "        # at this point there is for sure* an id or null at position 3\n",
    "        # *unless there is an entry that has 6 rows with pos 2 and 3 both non-null words\n",
    "        if wordlist[2] == \"null\":\n",
    "            wordlist[2] = \"-1\"\n",
    "\n",
    "        # now we divide to days\n",
    "        wordlists = []\n",
    "\n",
    "        # divide last string into separate entries\n",
    "        count = \"\"\n",
    "        time = \"\"\n",
    "        first = True\n",
    "        for symbol in wordlist[-1]:\n",
    "            if symbol.isalpha():\n",
    "                if not first:\n",
    "                    # if this is not the first iteration, count is a valid number and time has also been set\n",
    "                    # since its not the first, we just encountered a letter again, hence we write to the wordlists\n",
    "                    # we write the original list, without the A1B2C3 string and instead encoding the first pair A1 to time: 0, count: 1\n",
    "                    wordlists.append(wordlist[:-1] + [time, count])\n",
    "                    count = \"\"\n",
    "                else: first = False  # if it was the first, the next one wont be the first\n",
    "                # in any case we get the time                    \n",
    "                time = code_to_hour_dic[symbol]\n",
    "            elif symbol.isnumeric():\n",
    "                count += symbol\n",
    "            elif symbol == \"\\n\":\n",
    "                # we arrived at the end\n",
    "                wordlists.append(wordlist[:-1] + [time, count])\n",
    "                break\n",
    "        # now we have a wordlists which contains the counts split by hour\n",
    "\n",
    "        # recombine cleaned list of words into line\n",
    "        for wordlist in wordlists:\n",
    "            outstring += \" \".join(wordlist) + \"\\n\"\n",
    "        if i > max_iterations:\n",
    "            break\n",
    "\n",
    "with open(outputfilepath, \"w\") as outfile:\n",
    "    outfile.write(outstring)"
   ],
   "outputs": [
    {
     "output_type": "stream",
     "name": "stderr",
     "text": [
      "8353208it [00:35, 237287.16it/s]\n"
     ]
    }
   ],
   "metadata": {}
  },
  {
   "cell_type": "code",
   "execution_count": 28,
   "source": [
    "!head -n10 \"../data/output_test\""
   ],
   "outputs": [
    {
     "output_type": "stream",
     "name": "stdout",
     "text": [
      "aa.wikibooks Main_Page -1 desktop 8 5 8\n",
      "aa.wikibooks Special:Book -1 desktop 1 5 1\n",
      "aa.wikibooks Special:CiteThisPage -1 desktop 1 5 1\n",
      "aa.wikibooks Special:DownloadAsPdf -1 desktop 1 5 1\n",
      "aa.wikibooks Special:SpecialPages -1 desktop 1 5 1\n",
      "aa.wikibooks Special:UserLogin -1 desktop 1 5 1\n",
      "aa.wikipedia Special:Statistics -1 desktop 24 0 1\n",
      "aa.wikipedia Special:Statistics -1 desktop 24 1 1\n",
      "aa.wikipedia Special:Statistics -1 desktop 24 2 1\n",
      "aa.wikipedia Special:Statistics -1 desktop 24 3 1\n"
     ]
    }
   ],
   "metadata": {}
  },
  {
   "cell_type": "code",
   "execution_count": 46,
   "source": [
    "# !head -n10 \"../exploration/sample.txt\" && echo \"\" && head -n10 \"../data/output_test\""
   ],
   "outputs": [],
   "metadata": {}
  },
  {
   "cell_type": "code",
   "execution_count": null,
   "source": [],
   "outputs": [],
   "metadata": {}
  }
 ],
 "metadata": {
  "orig_nbformat": 4,
  "language_info": {
   "name": "python",
   "version": "3.9.7",
   "mimetype": "text/x-python",
   "codemirror_mode": {
    "name": "ipython",
    "version": 3
   },
   "pygments_lexer": "ipython3",
   "nbconvert_exporter": "python",
   "file_extension": ".py"
  },
  "kernelspec": {
   "name": "python3",
   "display_name": "Python 3.9.7 64-bit"
  },
  "interpreter": {
   "hash": "aee8b7b246df8f9039afb4144a1f6fd8d2ca17a180786b69acc140d282b71a49"
  }
 },
 "nbformat": 4,
 "nbformat_minor": 2
}