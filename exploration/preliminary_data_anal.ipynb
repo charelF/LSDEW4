{
 "cells": [
  {
   "cell_type": "code",
   "execution_count": 54,
   "source": [
    "import bz2\n",
    "import pandas as pd\n",
    "from matplotlib import pyplot as plt\n",
    "import pyinform\n",
    "import numpy as np\n",
    "from scipy.stats import kurtosis\n",
    "from matplotlib import pyplot as plt\n",
    "\n",
    "import sys\n",
    "sys.path.append('../processing')\n",
    "from fastreader import fastreader\n",
    "\n",
    "import sys\n",
    "sys.path.append('../info_metrics')\n",
    "from entropy_metrics import *"
   ],
   "outputs": [],
   "metadata": {}
  },
  {
   "cell_type": "code",
   "execution_count": 4,
   "source": [
    "# inputfilepath = \"../data/2019_09_07/pageviews-20190907-user\"\n",
    "# outputfilepath = \"../data/UNC/pageviews-20190907-user\"\n",
    "\n",
    "# fastreader(inputfilepath, outputfilepath, maxlines=10*10**6)"
   ],
   "outputs": [
    {
     "output_type": "stream",
     "name": "stdout",
     "text": [
      "ERROR: outputfile is not a valid parquet file!\n",
      "begin processing on file: ../data/2019_09_07/pageviews-20190907-user\n",
      "lines read: 1M\n",
      "lines read: 2M\n",
      "lines read: 3M\n",
      "lines read: 4M\n",
      "lines read: 5M\n",
      "lines read: 6M\n",
      "lines read: 7M\n",
      "lines read: 8M\n",
      "lines read: 9M\n",
      "lines read: 10M\n",
      "convert list to dataframe\n",
      "write parquet to file: ../data/UNC/pageviews-20190907-user (may take some time due to partitioning)\n"
     ]
    }
   ],
   "metadata": {}
  },
  {
   "cell_type": "code",
   "execution_count": 5,
   "source": [
    "def column_merger(columns):\n",
    "    columns = ['%s%s' % (a, '_%s' % b if b else '') for a, b in columns]\n",
    "    return columns\n",
    "\n",
    "def count_unique(series):\n",
    "    return len(np.unique(series))\n",
    "\n",
    "def mean_absolute_deviation(x):\n",
    "    return np.mean(np.abs(x - np.mean(x)))"
   ],
   "outputs": [],
   "metadata": {}
  },
  {
   "cell_type": "code",
   "execution_count": 6,
   "source": [
    "print(\"reading pageviews-20190907-spider\")\n",
    "df_20190907_spider = pd.read_parquet(\"../data/UNC/pageviews-20190907-spider/\")\n",
    "print(\"reading pageviews-20190907-user\")\n",
    "df_20190907_user = pd.read_parquet(\"../data/UNC/pageviews-20190907-user/\")"
   ],
   "outputs": [
    {
     "output_type": "stream",
     "name": "stdout",
     "text": [
      "reading pageviews-20190907-spider\n",
      "reading pageviews-20190907-user\n"
     ]
    }
   ],
   "metadata": {}
  },
  {
   "cell_type": "code",
   "execution_count": 8,
   "source": [
    "df_20190907_user.head(10)"
   ],
   "outputs": [
    {
     "output_type": "execute_result",
     "data": {
      "text/html": [
       "<div>\n",
       "<style scoped>\n",
       "    .dataframe tbody tr th:only-of-type {\n",
       "        vertical-align: middle;\n",
       "    }\n",
       "\n",
       "    .dataframe tbody tr th {\n",
       "        vertical-align: top;\n",
       "    }\n",
       "\n",
       "    .dataframe thead th {\n",
       "        text-align: right;\n",
       "    }\n",
       "</style>\n",
       "<table border=\"1\" class=\"dataframe\">\n",
       "  <thead>\n",
       "    <tr style=\"text-align: right;\">\n",
       "      <th></th>\n",
       "      <th>domain</th>\n",
       "      <th>title</th>\n",
       "      <th>id</th>\n",
       "      <th>access_type</th>\n",
       "      <th>total</th>\n",
       "      <th>hour</th>\n",
       "      <th>count</th>\n",
       "      <th>traffic_type</th>\n",
       "      <th>year</th>\n",
       "      <th>month</th>\n",
       "      <th>day</th>\n",
       "    </tr>\n",
       "  </thead>\n",
       "  <tbody>\n",
       "    <tr>\n",
       "      <th>0</th>\n",
       "      <td>aa.wikibooks</td>\n",
       "      <td>File:Commons-logo.svg</td>\n",
       "      <td>-1</td>\n",
       "      <td>desktop</td>\n",
       "      <td>1</td>\n",
       "      <td>18</td>\n",
       "      <td>1</td>\n",
       "      <td>user</td>\n",
       "      <td>2019</td>\n",
       "      <td>9</td>\n",
       "      <td>7</td>\n",
       "    </tr>\n",
       "    <tr>\n",
       "      <th>1</th>\n",
       "      <td>aa.wikibooks</td>\n",
       "      <td>File:Graduation_cap.png</td>\n",
       "      <td>-1</td>\n",
       "      <td>desktop</td>\n",
       "      <td>2</td>\n",
       "      <td>18</td>\n",
       "      <td>2</td>\n",
       "      <td>user</td>\n",
       "      <td>2019</td>\n",
       "      <td>9</td>\n",
       "      <td>7</td>\n",
       "    </tr>\n",
       "    <tr>\n",
       "      <th>2</th>\n",
       "      <td>aa.wikibooks</td>\n",
       "      <td>File:Incubator-logo.svg</td>\n",
       "      <td>-1</td>\n",
       "      <td>desktop</td>\n",
       "      <td>1</td>\n",
       "      <td>18</td>\n",
       "      <td>1</td>\n",
       "      <td>user</td>\n",
       "      <td>2019</td>\n",
       "      <td>9</td>\n",
       "      <td>7</td>\n",
       "    </tr>\n",
       "    <tr>\n",
       "      <th>3</th>\n",
       "      <td>aa.wikibooks</td>\n",
       "      <td>File:Wikibooks-logo.svg</td>\n",
       "      <td>-1</td>\n",
       "      <td>desktop</td>\n",
       "      <td>1</td>\n",
       "      <td>18</td>\n",
       "      <td>1</td>\n",
       "      <td>user</td>\n",
       "      <td>2019</td>\n",
       "      <td>9</td>\n",
       "      <td>7</td>\n",
       "    </tr>\n",
       "    <tr>\n",
       "      <th>4</th>\n",
       "      <td>aa.wikibooks</td>\n",
       "      <td>File:Wikimania.svg</td>\n",
       "      <td>-1</td>\n",
       "      <td>desktop</td>\n",
       "      <td>1</td>\n",
       "      <td>18</td>\n",
       "      <td>1</td>\n",
       "      <td>user</td>\n",
       "      <td>2019</td>\n",
       "      <td>9</td>\n",
       "      <td>7</td>\n",
       "    </tr>\n",
       "    <tr>\n",
       "      <th>5</th>\n",
       "      <td>aa.wikibooks</td>\n",
       "      <td>File:Wikimedia.png</td>\n",
       "      <td>-1</td>\n",
       "      <td>desktop</td>\n",
       "      <td>2</td>\n",
       "      <td>18</td>\n",
       "      <td>2</td>\n",
       "      <td>user</td>\n",
       "      <td>2019</td>\n",
       "      <td>9</td>\n",
       "      <td>7</td>\n",
       "    </tr>\n",
       "    <tr>\n",
       "      <th>6</th>\n",
       "      <td>aa.wikibooks</td>\n",
       "      <td>File:Wikimedia_Community_Logo.svg</td>\n",
       "      <td>-1</td>\n",
       "      <td>desktop</td>\n",
       "      <td>1</td>\n",
       "      <td>18</td>\n",
       "      <td>1</td>\n",
       "      <td>user</td>\n",
       "      <td>2019</td>\n",
       "      <td>9</td>\n",
       "      <td>7</td>\n",
       "    </tr>\n",
       "    <tr>\n",
       "      <th>7</th>\n",
       "      <td>aa.wikibooks</td>\n",
       "      <td>File:Wikinews-logo.svg</td>\n",
       "      <td>-1</td>\n",
       "      <td>desktop</td>\n",
       "      <td>2</td>\n",
       "      <td>18</td>\n",
       "      <td>2</td>\n",
       "      <td>user</td>\n",
       "      <td>2019</td>\n",
       "      <td>9</td>\n",
       "      <td>7</td>\n",
       "    </tr>\n",
       "    <tr>\n",
       "      <th>8</th>\n",
       "      <td>aa.wikibooks</td>\n",
       "      <td>File:Wikipedia-logo-de.png</td>\n",
       "      <td>-1</td>\n",
       "      <td>desktop</td>\n",
       "      <td>2</td>\n",
       "      <td>18</td>\n",
       "      <td>2</td>\n",
       "      <td>user</td>\n",
       "      <td>2019</td>\n",
       "      <td>9</td>\n",
       "      <td>7</td>\n",
       "    </tr>\n",
       "    <tr>\n",
       "      <th>9</th>\n",
       "      <td>aa.wikibooks</td>\n",
       "      <td>File:Wikiquote-logo.png</td>\n",
       "      <td>-1</td>\n",
       "      <td>desktop</td>\n",
       "      <td>2</td>\n",
       "      <td>18</td>\n",
       "      <td>2</td>\n",
       "      <td>user</td>\n",
       "      <td>2019</td>\n",
       "      <td>9</td>\n",
       "      <td>7</td>\n",
       "    </tr>\n",
       "  </tbody>\n",
       "</table>\n",
       "</div>"
      ],
      "text/plain": [
       "         domain                              title  id access_type total hour  \\\n",
       "0  aa.wikibooks              File:Commons-logo.svg  -1     desktop     1   18   \n",
       "1  aa.wikibooks            File:Graduation_cap.png  -1     desktop     2   18   \n",
       "2  aa.wikibooks            File:Incubator-logo.svg  -1     desktop     1   18   \n",
       "3  aa.wikibooks            File:Wikibooks-logo.svg  -1     desktop     1   18   \n",
       "4  aa.wikibooks                 File:Wikimania.svg  -1     desktop     1   18   \n",
       "5  aa.wikibooks                 File:Wikimedia.png  -1     desktop     2   18   \n",
       "6  aa.wikibooks  File:Wikimedia_Community_Logo.svg  -1     desktop     1   18   \n",
       "7  aa.wikibooks             File:Wikinews-logo.svg  -1     desktop     2   18   \n",
       "8  aa.wikibooks         File:Wikipedia-logo-de.png  -1     desktop     2   18   \n",
       "9  aa.wikibooks            File:Wikiquote-logo.png  -1     desktop     2   18   \n",
       "\n",
       "  count traffic_type  year month day  \n",
       "0     1         user  2019     9   7  \n",
       "1     2         user  2019     9   7  \n",
       "2     1         user  2019     9   7  \n",
       "3     1         user  2019     9   7  \n",
       "4     1         user  2019     9   7  \n",
       "5     2         user  2019     9   7  \n",
       "6     1         user  2019     9   7  \n",
       "7     2         user  2019     9   7  \n",
       "8     2         user  2019     9   7  \n",
       "9     2         user  2019     9   7  "
      ]
     },
     "metadata": {},
     "execution_count": 8
    }
   ],
   "metadata": {}
  },
  {
   "cell_type": "code",
   "execution_count": 20,
   "source": [
    "simple_stats = {\n",
    "    \"total\": [np.mean, np.sum]\n",
    "}\n",
    "\n",
    "print(\"df_20190907_spider_ph stats START\")\n",
    "df_20190907_spider_ph = df_20190907_spider\n",
    "df_20190907_spider_ph = df_20190907_spider_ph.astype(dtype= {\"total\":\"float64\", \"hour\": \"int64\"})\n",
    "df_20190907_spider_ph = df_20190907_spider_ph.groupby(by=[\"hour\"]).agg(simple_stats).reset_index()\n",
    "df_20190907_spider_ph.columns = column_merger(df_20190907_spider_ph.columns)\n",
    "print(\"df_20190907_spider_ph stats DONE\")\n",
    "\n",
    "print(\"df_20190907_user_ph stats START\")\n",
    "df_20190907_user_ph = df_20190907_user\n",
    "df_20190907_user_ph = df_20190907_user_ph.astype(dtype= {\"total\":\"float64\", \"hour\": \"int64\"})\n",
    "df_20190907_user_ph = df_20190907_user_ph.groupby(by=[\"hour\"]).agg(simple_stats).reset_index()\n",
    "df_20190907_user_ph.columns = column_merger(df_20190907_user_ph.columns)\n",
    "print(\"df_20190907_user_ph stats DONE\")\n"
   ],
   "outputs": [
    {
     "output_type": "stream",
     "name": "stdout",
     "text": [
      "df_20190907_spider_ph stats START\n",
      "df_20190907_spider_ph stats DONE\n",
      "df_20190907_user_ph stats START\n",
      "df_20190907_user_ph stats DONE\n"
     ]
    }
   ],
   "metadata": {}
  },
  {
   "cell_type": "code",
   "execution_count": 52,
   "source": [
    "plt.figure(figsize=(15,10))\n",
    "plt.bar(df_20190907_user_ph[\"hour\"], df_20190907_user_ph[\"total_sum\"] , align='center', label=\"user\")\n",
    "plt.bar(df_20190907_spider_ph[\"hour\"], df_20190907_spider_ph[\"total_sum\"] , align='center', label=\"spider\")\n",
    "plt.ylabel(\"total_count\")\n",
    "plt.xlabel(\"hours\")\n",
    "plt.legend()\n",
    "plt.show()"
   ],
   "outputs": [
    {
     "output_type": "display_data",
     "data": {
      "image/png": "[encoded data removed]",
      "text/plain": [
       "<Figure size 1080x720 with 1 Axes>"
      ]
     },
     "metadata": {
      "needs_background": "light"
     }
    }
   ],
   "metadata": {}
  },
  {
   "cell_type": "code",
   "execution_count": 22,
   "source": [
    "print(\"df_20190907_spider_ph stats START\")\n",
    "df_20190907_spider_pd = df_20190907_spider\n",
    "df_20190907_spider_pd = df_20190907_spider_pd.astype(dtype= {\"total\":\"float64\", \"hour\": \"int64\"})\n",
    "df_20190907_spider_pd = df_20190907_spider_pd.groupby(by=[\"domain\"]).agg(simple_stats).reset_index()\n",
    "df_20190907_spider_pd.columns = column_merger(df_20190907_spider_pd.columns)\n",
    "print(\"df_20190907_spider_ph stats DONE\")\n",
    "\n",
    "print(\"df_20190907_user_ph stats START\")\n",
    "df_20190907_user_pd = df_20190907_user\n",
    "df_20190907_user_pd = df_20190907_user_pd.astype(dtype= {\"total\":\"float64\", \"hour\": \"int64\"})\n",
    "df_20190907_user_pd = df_20190907_user_pd.groupby(by=[\"domain\"]).agg(simple_stats).reset_index()\n",
    "df_20190907_user_pd.columns = column_merger(df_20190907_user_pd.columns)\n",
    "print(\"df_20190907_user_ph stats DONE\")"
   ],
   "outputs": [
    {
     "output_type": "stream",
     "name": "stdout",
     "text": [
      "df_20190907_spider_ph stats START\n",
      "df_20190907_spider_ph stats DONE\n",
      "df_20190907_user_ph stats START\n",
      "df_20190907_user_ph stats DONE\n"
     ]
    }
   ],
   "metadata": {}
  },
  {
   "cell_type": "code",
   "execution_count": 48,
   "source": [
    "top_domains=np.array([])\n",
    "top_domains = np.append(top_domains, df_20190907_user_pd[\"domain\"][df_20190907_user_pd[\"total_sum\"] >= np.mean(df_20190907_user_pd[\"total_sum\"])].unique())\n",
    "top_domains = np.append(top_domains, df_20190907_spider_pd[\"domain\"][df_20190907_spider_pd[\"total_sum\"] >= np.mean(df_20190907_spider_pd[\"total_sum\"])].unique())\n",
    "\n",
    "df_20190907_user_pd_cut = df_20190907_user_pd[df_20190907_user_pd[\"domain\"].isin(top_domains)]\n",
    "df_20190907_spider_pd_cut = df_20190907_spider_pd[df_20190907_spider_pd[\"domain\"].isin(top_domains)]\n"
   ],
   "outputs": [],
   "metadata": {}
  },
  {
   "cell_type": "code",
   "execution_count": 53,
   "source": [
    "plt.figure(figsize=(15,10))\n",
    "plt.bar(df_20190907_user_pd_cut[\"domain\"], df_20190907_user_pd_cut[\"total_sum\"] , align='center', label=\"user\")\n",
    "plt.bar(df_20190907_spider_pd_cut[\"domain\"], df_20190907_spider_pd_cut[\"total_sum\"] , align='center', label=\"spider\")\n",
    "plt.ylabel(\"total_count\")\n",
    "plt.xlabel(\"domains\")\n",
    "plt.legend()\n",
    "plt.show()"
   ],
   "outputs": [
    {
     "output_type": "display_data",
     "data": {
      "image/png": "[encoded data removed]",
      "text/plain": [
       "<Figure size 1080x720 with 1 Axes>"
      ]
     },
     "metadata": {
      "needs_background": "light"
     }
    }
   ],
   "metadata": {}
  },
  {
   "cell_type": "code",
   "execution_count": 78,
   "source": [
    "a = df_20190907_spider_ph[\"total_sum\"].to_numpy()\n",
    "a = a.reshape(-1,1)\n",
    "# a\n",
    "mi(df_20190907_spider_ph[\"total_sum\"], df_20190907_spider_ph[\"total_sum\"], k=2)"
   ],
   "outputs": [
    {
     "output_type": "execute_result",
     "data": {
      "text/plain": [
       "2.502053762500811"
      ]
     },
     "metadata": {},
     "execution_count": 78
    }
   ],
   "metadata": {}
  },
  {
   "cell_type": "code",
   "execution_count": 71,
   "source": [
    "a = df_20190907_spider_ph[\"total_sum\"].to_numpy()\n",
    "a = a.reshape(-1,1)\n",
    "print(entropy(a))\n",
    "\n",
    "\n",
    "b = df_20190907_user_ph[\"total_sum\"].to_numpy()\n",
    "b = b.reshape(-1,1)\n",
    "entropy(b)\n",
    "\n"
   ],
   "outputs": [
    {
     "output_type": "stream",
     "name": "stdout",
     "text": [
      "21.586385263164726\n"
     ]
    },
    {
     "output_type": "execute_result",
     "data": {
      "text/plain": [
       "24.09386942612408"
      ]
     },
     "metadata": {},
     "execution_count": 71
    }
   ],
   "metadata": {}
  },
  {
   "cell_type": "code",
   "execution_count": 63,
   "source": [
    "df_20190907_spider_ph[\"total_sum\"].shape"
   ],
   "outputs": [
    {
     "output_type": "execute_result",
     "data": {
      "text/plain": [
       "(24,)"
      ]
     },
     "metadata": {},
     "execution_count": 63
    }
   ],
   "metadata": {}
  },
  {
   "cell_type": "code",
   "execution_count": null,
   "source": [],
   "outputs": [],
   "metadata": {}
  }
 ],
 "metadata": {
  "orig_nbformat": 4,
  "language_info": {
   "name": "python",
   "version": "3.8.3",
   "mimetype": "text/x-python",
   "codemirror_mode": {
    "name": "ipython",
    "version": 3
   },
   "pygments_lexer": "ipython3",
   "nbconvert_exporter": "python",
   "file_extension": ".py"
  },
  "kernelspec": {
   "name": "python3",
   "display_name": "Python 3.8.3 64-bit ('base': conda)"
  },
  "interpreter": {
   "hash": "dca0ade3e726a953b501b15e8e990130d2b7799f14cfd9f4271676035ebe5511"
  }
 },
 "nbformat": 4,
 "nbformat_minor": 2
}