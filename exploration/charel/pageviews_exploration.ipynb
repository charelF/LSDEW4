{
 "cells": [
  {
   "cell_type": "code",
   "execution_count": 1,
   "metadata": {},
   "outputs": [],
   "source": [
    "import pandas as pd\n",
    "import numpy as np\n",
    "import matplotlib.pyplot as plt\n",
    "import datetime\n",
    "import warnings\n",
    "warnings.filterwarnings('ignore')"
   ]
  },
  {
   "cell_type": "code",
   "execution_count": 25,
   "metadata": {},
   "outputs": [
    {
     "data": {
      "text/html": [
       "<div>\n",
       "<style scoped>\n",
       "    .dataframe tbody tr th:only-of-type {\n",
       "        vertical-align: middle;\n",
       "    }\n",
       "\n",
       "    .dataframe tbody tr th {\n",
       "        vertical-align: top;\n",
       "    }\n",
       "\n",
       "    .dataframe thead th {\n",
       "        text-align: right;\n",
       "    }\n",
       "</style>\n",
       "<table border=\"1\" class=\"dataframe\">\n",
       "  <thead>\n",
       "    <tr style=\"text-align: right;\">\n",
       "      <th></th>\n",
       "      <th>sumCount</th>\n",
       "    </tr>\n",
       "    <tr>\n",
       "      <th>date</th>\n",
       "      <th></th>\n",
       "    </tr>\n",
       "  </thead>\n",
       "  <tbody>\n",
       "    <tr>\n",
       "      <th>2018-09-01 00:00:00</th>\n",
       "      <td>1553159</td>\n",
       "    </tr>\n",
       "    <tr>\n",
       "      <th>2018-09-01 01:00:00</th>\n",
       "      <td>1539935</td>\n",
       "    </tr>\n",
       "    <tr>\n",
       "      <th>2018-09-01 02:00:00</th>\n",
       "      <td>1490035</td>\n",
       "    </tr>\n",
       "    <tr>\n",
       "      <th>2018-09-01 03:00:00</th>\n",
       "      <td>1363639</td>\n",
       "    </tr>\n",
       "    <tr>\n",
       "      <th>2018-09-01 04:00:00</th>\n",
       "      <td>1497119</td>\n",
       "    </tr>\n",
       "    <tr>\n",
       "      <th>...</th>\n",
       "      <td>...</td>\n",
       "    </tr>\n",
       "    <tr>\n",
       "      <th>2019-09-30 19:00:00</th>\n",
       "      <td>2274719</td>\n",
       "    </tr>\n",
       "    <tr>\n",
       "      <th>2019-09-30 20:00:00</th>\n",
       "      <td>2229767</td>\n",
       "    </tr>\n",
       "    <tr>\n",
       "      <th>2019-09-30 21:00:00</th>\n",
       "      <td>1973198</td>\n",
       "    </tr>\n",
       "    <tr>\n",
       "      <th>2019-09-30 22:00:00</th>\n",
       "      <td>1960421</td>\n",
       "    </tr>\n",
       "    <tr>\n",
       "      <th>2019-09-30 23:00:00</th>\n",
       "      <td>1868870</td>\n",
       "    </tr>\n",
       "  </tbody>\n",
       "</table>\n",
       "<p>1440 rows × 1 columns</p>\n",
       "</div>"
      ],
      "text/plain": [
       "                     sumCount\n",
       "date                         \n",
       "2018-09-01 00:00:00   1553159\n",
       "2018-09-01 01:00:00   1539935\n",
       "2018-09-01 02:00:00   1490035\n",
       "2018-09-01 03:00:00   1363639\n",
       "2018-09-01 04:00:00   1497119\n",
       "...                       ...\n",
       "2019-09-30 19:00:00   2274719\n",
       "2019-09-30 20:00:00   2229767\n",
       "2019-09-30 21:00:00   1973198\n",
       "2019-09-30 22:00:00   1960421\n",
       "2019-09-30 23:00:00   1868870\n",
       "\n",
       "[1440 rows x 1 columns]"
      ]
     },
     "execution_count": 25,
     "metadata": {},
     "output_type": "execute_result"
    }
   ],
   "source": [
    "df = pd.read_csv(\"../../data/small/sumcount_per_timestamp.csv\")\n",
    "df[\"date\"] = pd.to_datetime(df[\"_c0\"], unit=\"s\")\n",
    "\n",
    "df2 = pd.read_csv(\"../../data/small/attack-sum-count.csv\")\n",
    "df2[\"date\"] = pd.to_datetime(df2.loc[:, [\"year\", \"month\", \"day\", \"hour\"]])\n",
    "df2.drop(columns=[\"year\", \"month\", \"day\", \"hour\"], inplace=True)\n",
    "df2.set_index(\"date\", inplace=True)\n",
    "df2.sort_values(\"date\", inplace=True)"
   ]
  },
  {
   "cell_type": "code",
   "execution_count": 27,
   "metadata": {},
   "outputs": [
    {
     "data": {
      "image/png": "[encoded data removed]",
      "text/plain": [
       "<Figure size 720x288 with 1 Axes>"
      ]
     },
     "metadata": {
      "needs_background": "light"
     },
     "output_type": "display_data"
    }
   ],
   "source": [
    "plt.figure(figsize=(10,4))\n",
    "plt.plot(df[\"date\"], df[\"_c1\"], alpha=0.5)\n",
    "plt.plot(df2.index, df2[\"sumCount\"], alpha=0.5)\n",
    "plt.grid(which=\"both\")"
   ]
  },
  {
   "cell_type": "code",
   "execution_count": 16,
   "metadata": {},
   "outputs": [
    {
     "data": {
      "text/plain": [
       "dict_keys([(2018, 9), (2018, 10), (2018, 11), (2019, 8), (2019, 9), (2019, 10), (2019, 11), (2020, 1)])"
      ]
     },
     "execution_count": 16,
     "metadata": {},
     "output_type": "execute_result"
    }
   ],
   "source": [
    "df.groupby([df[\"date\"].dt.year, df[\"date\"].dt.month]).groups.keys()"
   ]
  },
  {
   "cell_type": "code",
   "execution_count": 17,
   "metadata": {},
   "outputs": [
    {
     "data": {
      "text/plain": [
       "6768"
      ]
     },
     "execution_count": 17,
     "metadata": {},
     "output_type": "execute_result"
    }
   ],
   "source": []
  },
  {
   "cell_type": "code",
   "execution_count": null,
   "metadata": {},
   "outputs": [],
   "source": []
  }
 ],
 "metadata": {
  "interpreter": {
   "hash": "aee8b7b246df8f9039afb4144a1f6fd8d2ca17a180786b69acc140d282b71a49"
  },
  "kernelspec": {
   "display_name": "Python 3.9.7 64-bit",
   "name": "python3"
  },
  "language_info": {
   "codemirror_mode": {
    "name": "ipython",
    "version": 3
   },
   "file_extension": ".py",
   "mimetype": "text/x-python",
   "name": "python",
   "nbconvert_exporter": "python",
   "pygments_lexer": "ipython3",
   "version": "3.9.7"
  },
  "orig_nbformat": 4
 },
 "nbformat": 4,
 "nbformat_minor": 2
}
