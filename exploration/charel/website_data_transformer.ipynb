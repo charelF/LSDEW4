{
 "cells": [
  {
   "cell_type": "code",
   "execution_count": 57,
   "metadata": {},
   "outputs": [],
   "source": [
    "import glob\n",
    "import pandas as pd\n",
    "import os\n",
    "import json"
   ]
  },
  {
   "cell_type": "code",
   "execution_count": 62,
   "metadata": {},
   "outputs": [],
   "source": [
    "inputdir = \"websitedatatemp\"\n",
    "outputdir = \"cleanedwebsitedata\"\n",
    "\n",
    "for tt in [\"user\", \"spider\"]:\n",
    "    for at in [\"desktop\", \"mobile-dev\", \"mobile-app\"]:\n",
    "        for domain in [\"en.wikipedia\", \"de.wikipedia\", \"fr.wikipedia\", \"es.wikipedia\", \"ru.wikipedia\", \"zh.wikipedia\"]:\n",
    "            for year in [2019]:\n",
    "                for month in [9]:\n",
    "                    for day in range(1,32):\n",
    "\n",
    "                        jsondic = {i:[] for i in range(24)}\n",
    "                        filepathpattern = f\"./{inputdir}/{tt}/{at}/{domain}/{year}-{month:02d}-{day:02d}-*.csv\"\n",
    "                        filepaths = glob.glob(filepathpattern)\n",
    "                        \n",
    "                        if not filepaths:\n",
    "                            continue\n",
    "                            print(f\"{filepathpattern} IS EMPTY\")\n",
    "                        # elif len(filepaths) != 24:\n",
    "                        #     continue\n",
    "                            # print(f\"{filepathpattern} DOES NOT CONTAIN 24 HOURS\")\n",
    "                        \n",
    "                        for filepath in filepaths:\n",
    "                            hour = int(filepath.split(\"-\")[-1].split(\".\")[0])\n",
    "                            nested_csvs = glob.glob(filepath + \"/*.csv\")\n",
    "                            if len(nested_csvs) != 1:\n",
    "                                print(f\"{filepathpattern} CONTAINS NOT EXACTLY 1 NESTED CSV\")\n",
    "                                break\n",
    "                            realfilepath = nested_csvs[0]\n",
    "                            with open(realfilepath, \"r\") as f:\n",
    "                                for line in f.read().split(\"\\n\"):\n",
    "                                    x, y = line.split(\",\")\n",
    "                                    jsondic[hour].append({\"x\":int(x), \"y\":int(y)})\n",
    "\n",
    "                        outfilepath = f\"./{outputdir}/{tt}/{at}/{domain}/{year}-{month:02d}-{day:02d}.json\"\n",
    "                        outfiledir = \"/\".join(outfilepath.split(\"/\")[:-1])\n",
    "\n",
    "                        if not os.path.exists(outfiledir):\n",
    "                            print()\n",
    "                            os.makedirs(outfiledir)\n",
    "\n",
    "                        with open(outfilepath, \"w\") as f:\n",
    "                            json.dump(jsondic, f)"
   ]
  }
 ],
 "metadata": {
  "interpreter": {
   "hash": "aee8b7b246df8f9039afb4144a1f6fd8d2ca17a180786b69acc140d282b71a49"
  },
  "kernelspec": {
   "display_name": "Python 3.9.7 64-bit",
   "name": "python3"
  },
  "language_info": {
   "codemirror_mode": {
    "name": "ipython",
    "version": 3
   },
   "file_extension": ".py",
   "mimetype": "text/x-python",
   "name": "python",
   "nbconvert_exporter": "python",
   "pygments_lexer": "ipython3",
   "version": "3.9.7"
  },
  "orig_nbformat": 4
 },
 "nbformat": 4,
 "nbformat_minor": 2
}
