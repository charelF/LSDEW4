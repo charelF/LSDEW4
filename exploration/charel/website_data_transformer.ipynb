{
 "cells": [
  {
   "cell_type": "code",
   "execution_count": 57,
   "metadata": {},
   "outputs": [],
   "source": [
    "import glob\n",
    "import pandas as pd\n",
    "import os\n",
    "import json"
   ]
  },
  {
   "cell_type": "code",
   "execution_count": 62,
   "metadata": {},
   "outputs": [],
   "source": [
    "inputdir = \"websitedatatemp\"\n",
    "outputdir = \"cleanedwebsitedata\"\n",
    "\n",
    "for tt in [\"user\", \"spider\"]:\n",
    "    for at in [\"desktop\", \"mobile-dev\", \"mobile-app\"]:\n",
    "        for domain in [\"en.wikipedia\", \"de.wikipedia\", \"fr.wikipedia\", \"es.wikipedia\", \"ru.wikipedia\", \"zh.wikipedia\"]:\n",
    "            for year in [2019]:\n",
    "                for month in [9]:\n",
    "                    for day in range(1,32):\n",
    "\n",
    "                        jsondic = {i:[] for i in range(24)}\n",
    "                        filepathpattern = f\"./{inputdir}/{tt}/{at}/{domain}/{year}-{month:02d}-{day:02d}-*.csv\"\n",
    "                        filepaths = glob.glob(filepathpattern)\n",
    "                        \n",
    "                        if not filepaths:\n",
    "                            continue\n",
    "                            print(f\"{filepathpattern} IS EMPTY\")\n",
    "                        # elif len(filepaths) != 24:\n",
    "                        #     continue\n",
    "                            # print(f\"{filepathpattern} DOES NOT CONTAIN 24 HOURS\")\n",
    "                        \n",
    "                        for filepath in filepaths:\n",
    "                            hour = int(filepath.split(\"-\")[-1].split(\".\")[0])\n",
    "                            with open(filepath, \"r\") as f:\n",
    "                                for line in f.read().split(\"\\n\"):\n",
    "                                    x, y = line.split(\",\")\n",
    "                                    jsondic[hour].append({\"x\":int(x), \"y\":int(y)})\n",
    "\n",
    "                        outfilepath = f\"./{outputdir}/{tt}/{at}/{domain}/{year}-{month:02d}-{day:02d}.json\"\n",
    "                        outfiledir = \"/\".join(outfilepath.split(\"/\")[:-1])\n",
    "\n",
    "                        if not os.path.exists(outfiledir):\n",
    "                            print()\n",
    "                            os.makedirs(outfiledir)\n",
    "\n",
    "                        with open(outfilepath, \"w\") as f:\n",
    "                            json.dump(jsondic, f)"
   ]
  },
  {
   "cell_type": "code",
   "execution_count": 60,
   "metadata": {},
   "outputs": [
    {
     "data": {
      "text/plain": [
       "\"{'a'}\""
      ]
     },
     "execution_count": 60,
     "metadata": {},
     "output_type": "execute_result"
    }
   ],
   "source": [
    "str({\"a\"})"
   ]
  },
  {
   "cell_type": "code",
   "execution_count": 33,
   "metadata": {},
   "outputs": [
    {
     "ename": "ValueError",
     "evalue": "I/O operation on closed file.",
     "output_type": "error",
     "traceback": [
      "\u001b[0;31m---------------------------------------------------------------------------\u001b[0m",
      "\u001b[0;31mValueError\u001b[0m                                Traceback (most recent call last)",
      "\u001b[0;32m/var/folders/d9/6_lw279s459fpbps9x1mxd6m0000gn/T/ipykernel_73363/3059900045.py\u001b[0m in \u001b[0;36m<module>\u001b[0;34m\u001b[0m\n\u001b[0;32m----> 1\u001b[0;31m \u001b[0mf\u001b[0m\u001b[0;34m.\u001b[0m\u001b[0mread\u001b[0m\u001b[0;34m(\u001b[0m\u001b[0;34m)\u001b[0m\u001b[0;34m\u001b[0m\u001b[0;34m\u001b[0m\u001b[0m\n\u001b[0m",
      "\u001b[0;31mValueError\u001b[0m: I/O operation on closed file."
     ]
    }
   ],
   "source": [
    "f.read()"
   ]
  },
  {
   "cell_type": "code",
   "execution_count": 24,
   "metadata": {},
   "outputs": [
    {
     "data": {
      "text/plain": [
       "'{\"0\":{\"0\":1234,\"1\":123,\"2\":12,\"3\":2,\"4\":1},\"1\":{\"0\":4,\"1\":5,\"2\":6,\"3\":10,\"4\":10000}}'"
      ]
     },
     "execution_count": 24,
     "metadata": {},
     "output_type": "execute_result"
    }
   ],
   "source": [
    "df"
   ]
  },
  {
   "cell_type": "code",
   "execution_count": 15,
   "metadata": {},
   "outputs": [
    {
     "data": {
      "text/plain": [
       "'./websitedatatemp/spider/mobile-app/zh.wikipedia/2019-09-31-*.csv'"
      ]
     },
     "execution_count": 15,
     "metadata": {},
     "output_type": "execute_result"
    }
   ],
   "source": [
    "f\"./{inputdir}/{tt}/{at}/{domain}/{year}-{month:02d}-{day:02d}-*.csv\""
   ]
  },
  {
   "cell_type": "code",
   "execution_count": 9,
   "metadata": {},
   "outputs": [
    {
     "data": {
      "text/plain": [
       "'1/2/3'"
      ]
     },
     "execution_count": 9,
     "metadata": {},
     "output_type": "execute_result"
    }
   ],
   "source": [
    "\"/\".join([\"1\", \"2\", \"3\"])"
   ]
  },
  {
   "cell_type": "code",
   "execution_count": 6,
   "metadata": {},
   "outputs": [
    {
     "data": {
      "text/plain": [
       "['.', 'websitedatatemp', 'spider']"
      ]
     },
     "execution_count": 6,
     "metadata": {},
     "output_type": "execute_result"
    }
   ],
   "source": [
    "'./websitedatatemp/spider'.split(\"/\")"
   ]
  },
  {
   "cell_type": "code",
   "execution_count": null,
   "metadata": {},
   "outputs": [],
   "source": []
  }
 ],
 "metadata": {
  "interpreter": {
   "hash": "aee8b7b246df8f9039afb4144a1f6fd8d2ca17a180786b69acc140d282b71a49"
  },
  "kernelspec": {
   "display_name": "Python 3.9.7 64-bit",
   "name": "python3"
  },
  "language_info": {
   "codemirror_mode": {
    "name": "ipython",
    "version": 3
   },
   "file_extension": ".py",
   "mimetype": "text/x-python",
   "name": "python",
   "nbconvert_exporter": "python",
   "pygments_lexer": "ipython3",
   "version": "3.9.7"
  },
  "orig_nbformat": 4
 },
 "nbformat": 4,
 "nbformat_minor": 2
}
