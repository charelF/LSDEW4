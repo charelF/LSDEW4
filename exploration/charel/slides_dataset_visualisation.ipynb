{
 "cells": [
  {
   "cell_type": "code",
   "execution_count": 2,
   "metadata": {},
   "outputs": [],
   "source": [
    "import pandas as pd"
   ]
  },
  {
   "cell_type": "code",
   "execution_count": 19,
   "metadata": {},
   "outputs": [
    {
     "data": {
      "text/html": [
       "<div>\n",
       "<style scoped>\n",
       "    .dataframe tbody tr th:only-of-type {\n",
       "        vertical-align: middle;\n",
       "    }\n",
       "\n",
       "    .dataframe tbody tr th {\n",
       "        vertical-align: top;\n",
       "    }\n",
       "\n",
       "    .dataframe thead th {\n",
       "        text-align: right;\n",
       "    }\n",
       "</style>\n",
       "<table border=\"1\" class=\"dataframe\">\n",
       "  <thead>\n",
       "    <tr style=\"text-align: right;\">\n",
       "      <th></th>\n",
       "      <th>index</th>\n",
       "      <th>domain</th>\n",
       "      <th>title</th>\n",
       "      <th>ID</th>\n",
       "      <th>accesstype</th>\n",
       "      <th>dailyviews</th>\n",
       "      <th>hourlyviews</th>\n",
       "    </tr>\n",
       "  </thead>\n",
       "  <tbody>\n",
       "    <tr>\n",
       "      <th>0</th>\n",
       "      <td>0</td>\n",
       "      <td>aa.wikibooks</td>\n",
       "      <td>Main_Page</td>\n",
       "      <td>NaN</td>\n",
       "      <td>desktop</td>\n",
       "      <td>8</td>\n",
       "      <td>F8</td>\n",
       "    </tr>\n",
       "    <tr>\n",
       "      <th>1</th>\n",
       "      <td>250</td>\n",
       "      <td>af.wikipedia</td>\n",
       "      <td>11_Februarie</td>\n",
       "      <td>1891.0</td>\n",
       "      <td>desktop</td>\n",
       "      <td>1</td>\n",
       "      <td>M1</td>\n",
       "    </tr>\n",
       "    <tr>\n",
       "      <th>2</th>\n",
       "      <td>500</td>\n",
       "      <td>af.wikipedia</td>\n",
       "      <td>1739</td>\n",
       "      <td>745.0</td>\n",
       "      <td>desktop</td>\n",
       "      <td>1</td>\n",
       "      <td>F1</td>\n",
       "    </tr>\n",
       "    <tr>\n",
       "      <th>3</th>\n",
       "      <td>750</td>\n",
       "      <td>af.wikipedia</td>\n",
       "      <td>22_April</td>\n",
       "      <td>4061.0</td>\n",
       "      <td>desktop</td>\n",
       "      <td>3</td>\n",
       "      <td>A1K1W1</td>\n",
       "    </tr>\n",
       "  </tbody>\n",
       "</table>\n",
       "</div>"
      ],
      "text/plain": [
       "   index        domain         title      ID accesstype  dailyviews  \\\n",
       "0      0  aa.wikibooks     Main_Page     NaN    desktop           8   \n",
       "1    250  af.wikipedia  11_Februarie  1891.0    desktop           1   \n",
       "2    500  af.wikipedia          1739   745.0    desktop           1   \n",
       "3    750  af.wikipedia      22_April  4061.0    desktop           3   \n",
       "\n",
       "  hourlyviews  \n",
       "0          F8  \n",
       "1          M1  \n",
       "2          F1  \n",
       "3      A1K1W1  "
      ]
     },
     "execution_count": 19,
     "metadata": {},
     "output_type": "execute_result"
    }
   ],
   "source": [
    "pd.read_csv(\"../../data/small/cleansample.txt\", sep=\" \", names=[\"domain\", \"title\", \"ID\", \"accesstype\", \"dailyviews\", \"hourlyviews\"])[::250].reset_index()"
   ]
  },
  {
   "cell_type": "code",
   "execution_count": null,
   "metadata": {},
   "outputs": [],
   "source": [
    "pd.read_csv()"
   ]
  }
 ],
 "metadata": {
  "interpreter": {
   "hash": "aee8b7b246df8f9039afb4144a1f6fd8d2ca17a180786b69acc140d282b71a49"
  },
  "kernelspec": {
   "display_name": "Python 3.9.7 64-bit",
   "name": "python3"
  },
  "language_info": {
   "codemirror_mode": {
    "name": "ipython",
    "version": 3
   },
   "file_extension": ".py",
   "mimetype": "text/x-python",
   "name": "python",
   "nbconvert_exporter": "python",
   "pygments_lexer": "ipython3",
   "version": "3.9.7"
  },
  "orig_nbformat": 4
 },
 "nbformat": 4,
 "nbformat_minor": 2
}
