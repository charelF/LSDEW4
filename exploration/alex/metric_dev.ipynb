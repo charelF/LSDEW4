{
 "cells": [
  {
   "cell_type": "code",
   "execution_count": 1,
   "metadata": {},
   "outputs": [],
   "source": [
    "import pandas as pd\n",
    "import numpy as np\n",
    "import matplotlib.pyplot as plt\n",
    "import datetime\n",
    "import warnings\n",
    "warnings.filterwarnings('ignore')\n",
    "\n",
    "import scipy.stats as ss\n",
    "\n",
    "def standardise(vec): return (vec - vec.mean()) / vec.std()\n",
    "pd.set_option(\"display.max_rows\", 500)"
   ]
  },
  {
   "cell_type": "code",
   "execution_count": 7,
   "metadata": {},
   "outputs": [],
   "source": [
    "# KULLBACK-LEIBLER DIVERGENCE -- CHECKED\n",
    "def KLD_dis(x, y, logbase=2):\n",
    "    \"\"\"Discrete kullback-Leibler divergence D(P(x)||Q(x)) for X, Y values stored in\n",
    "    two arrays:\n",
    "    - NOTE: there should be no events in x array that do not occur in y array\n",
    "    - x: array with samples\n",
    "    - y: array with samples\n",
    "    - logbase: the base for the shannon entropy units\n",
    "    \"\"\"\n",
    "    assert len(x) == len(y), \"Arrays x and y have mismatching dimensions.\"\n",
    "\n",
    "    # determining P(x)\n",
    "    unique_x, count_x = np.unique(x, return_counts = True, axis=0)\n",
    "    p_x = count_x / len(x)\n",
    "    p_x = p_x[p_x > 0]\n",
    "\n",
    "    # calculating the occurence of x in events in array y - Q(x)\n",
    "    count_y = np.zeros((len(unique_x)))\n",
    "    for i, x_val in enumerate(unique_x): # not the most efficient way, maybe there is a smarter way to \n",
    "        count_y[i] = np.count_nonzero(y == x_val)\n",
    "\n",
    "    q_x = count_y/ len(y)\n",
    "    q_x = q_x[q_x > 0]\n",
    "\n",
    "    assert len(q_x) == len(p_x), \"P(x) and Q(x) have mismatching dimensions.\"\n",
    "\n",
    "    kl = np.sum(p_x * (np.log(p_x/q_x) / np.log(logbase)))\n",
    "    return kl\n",
    "\n",
    "\n",
    "\n",
    "def chisquared_distance(A, B):\n",
    " \n",
    "    # compute the chi-squared distance using above formula\n",
    "    chi = 0.5 * np.nansum([((a - b) ** 2) / (a + b)\n",
    "                      for (a, b) in zip(A, B)], dtype=\"d\")\n",
    " \n",
    "    return chi\n",
    "\n",
    "def distribution_metrics(dist,dist2, bins):\n",
    "    log_dist = np.log10(dist)\n",
    "    log_dist2= np.log10(dist2)\n",
    "\n",
    "    hist1 = np.histogram(log_dist, bins=bins, range = (0,5), density=False)\n",
    "    hist2 = np.histogram(log_dist2, bins=bins, range = (0,5), density=False)\n",
    "\n",
    "    occurences1, bins1 = hist1\n",
    "    occurences2, bins2 = hist2\n",
    "    probability1 = occurences1/np.sum(occurences1)\n",
    "    probability2 = occurences2/np.sum(occurences2)\n",
    "    \n",
    "    # entropy is the exact same function as the one used for KL divergence, \n",
    "    # if the input is just one probability array, then it calculates entropy\n",
    "    # if the input are two probability arrays, then it calculates the KL divergence\n",
    "    # SEE :https://docs.scipy.org/doc/scipy/reference/generated/scipy.stats.entropy.html\n",
    "\n",
    "    Entropy1 = ss.entropy(probability1, base=2)\n",
    "    Entropy2 = ss.entropy(probability2, base=2)\n",
    "    CHI = chisquared_distance(probability1, probability2)\n",
    "    KL = ss.entropy(probability1, probability2, base=2)\n",
    "    return CHI, KL, Entropy1, Entropy2 \n"
   ]
  },
  {
   "cell_type": "code",
   "execution_count": 3,
   "metadata": {},
   "outputs": [],
   "source": [
    "df1 = pd.read_parquet(\"../../data/big/A6_07-08.parquet\")\n",
    "df2 = pd.read_parquet(\"../../data/big/A6_04-05.parquet\")\n",
    "df1[\"date\"] = pd.to_datetime(df1[\"timestamp\"], unit=\"s\")\n",
    "df2[\"date\"] = pd.to_datetime(df2[\"timestamp\"], unit=\"s\")"
   ]
  },
  {
   "cell_type": "code",
   "execution_count": 4,
   "metadata": {},
   "outputs": [],
   "source": [
    "domain = \"de.wikipedia\"\n",
    "\n",
    "df1_temp = df1[df1.domain == domain]\n",
    "df2_temp = df2[df2.domain == domain]\n",
    "\n",
    "df = pd.concat([df1_temp, df2_temp])"
   ]
  },
  {
   "cell_type": "code",
   "execution_count": 5,
   "metadata": {},
   "outputs": [],
   "source": [
    "day1 = df[(df.date.dt.day == 6) & (df.date.dt.hour == 12)]\n",
    "day2 = df[(df.date.dt.day == 4) & (df.date.dt.hour == 12)]\n",
    "dds1 = [pd.to_datetime(i) for i in df1_temp.date.unique()]\n",
    "dds2 = [pd.to_datetime(i) for i in df2_temp.date.unique()]"
   ]
  },
  {
   "cell_type": "code",
   "execution_count": 8,
   "metadata": {},
   "outputs": [
    {
     "data": {
      "image/png": "[encoded data removed]",
      "text/plain": [
       "<Figure size 720x360 with 1 Axes>"
      ]
     },
     "metadata": {
      "needs_background": "light"
     },
     "output_type": "display_data"
    }
   ],
   "source": [
    "range = 1\n",
    "for (d1, d2) in zip(dds1[0:range], dds2[0:range]):\n",
    "    day1 = df[df[\"date\"]==d1]\n",
    "    day2 = df[df[\"date\"]==d2]\n",
    "\n",
    "    day1_sorted = sorted(day1[\"CumCount\"])[::-1]\n",
    "    day2_sorted = sorted(day2[\"CumCount\"])[::-1]\n",
    "\n",
    "    CHI, KL, bins1, bins2, occurence1, occurence2 = distribution_metrics(day1_sorted, day2_sorted, 20)\n",
    "\n",
    "    plt.figure(figsize=(10,5))\n",
    "    plt.title(\"| CHI: \" + str(CHI) + \"KL: \" + str(KL))\n",
    "    plt.loglog(sorted(day1[\"CumCount\"])[::-1], label = day1.date.dt.date.unique())\n",
    "    plt.loglog(sorted(day2[\"CumCount\"])[::-1], label = day2.date.dt.date.unique())\n",
    "    plt.legend()\n",
    "\n",
    "    plt.show()\n"
   ]
  },
  {
   "cell_type": "code",
   "execution_count": 18,
   "metadata": {},
   "outputs": [
    {
     "data": {
      "text/plain": [
       "array([0.  , 0.25, 0.5 , 0.75, 1.  , 1.25, 1.5 , 1.75, 2.  , 2.25, 2.5 ,\n",
       "       2.75, 3.  , 3.25, 3.5 , 3.75, 4.  , 4.25, 4.5 , 4.75, 5.  ])"
      ]
     },
     "execution_count": 18,
     "metadata": {},
     "output_type": "execute_result"
    }
   ],
   "source": [
    "bins1"
   ]
  },
  {
   "cell_type": "code",
   "execution_count": 14,
   "metadata": {},
   "outputs": [
    {
     "data": {
      "text/plain": [
       "array([6638,  255,   15,    7,    9,    0,    1,    3,    1,    1,    0,\n",
       "          0,    1,    0,    1,    0,    0,    0,    0,    0])"
      ]
     },
     "execution_count": 14,
     "metadata": {},
     "output_type": "execute_result"
    }
   ],
   "source": [
    "occurence1"
   ]
  },
  {
   "cell_type": "code",
   "execution_count": 13,
   "metadata": {},
   "outputs": [
    {
     "data": {
      "text/plain": [
       "165       1\n",
       "166       1\n",
       "167       1\n",
       "168       1\n",
       "169       1\n",
       "         ..\n",
       "545453    1\n",
       "546624    2\n",
       "547753    1\n",
       "547760    1\n",
       "547761    1\n",
       "Name: CumCount, Length: 6932, dtype: int64"
      ]
     },
     "execution_count": 13,
     "metadata": {},
     "output_type": "execute_result"
    }
   ],
   "source": [
    "day1[\"CumCount\"]"
   ]
  },
  {
   "cell_type": "code",
   "execution_count": 37,
   "metadata": {},
   "outputs": [
    {
     "data": {
      "text/plain": [
       "(11968,)"
      ]
     },
     "execution_count": 37,
     "metadata": {},
     "output_type": "execute_result"
    }
   ],
   "source": [
    "day2[\"CumCount\"].shape"
   ]
  },
  {
   "cell_type": "code",
   "execution_count": 42,
   "metadata": {},
   "outputs": [
    {
     "data": {
      "text/plain": [
       "array([0.  , 0.25, 0.5 , 0.75, 1.  , 1.25, 1.5 , 1.75, 2.  , 2.25, 2.5 ,\n",
       "       2.75, 3.  , 3.25, 3.5 , 3.75, 4.  , 4.25, 4.5 , 4.75, 5.  ])"
      ]
     },
     "execution_count": 42,
     "metadata": {},
     "output_type": "execute_result"
    }
   ],
   "source": [
    "bins1"
   ]
  },
  {
   "cell_type": "code",
   "execution_count": 43,
   "metadata": {},
   "outputs": [
    {
     "data": {
      "text/plain": [
       "array([0.  , 0.25, 0.5 , 0.75, 1.  , 1.25, 1.5 , 1.75, 2.  , 2.25, 2.5 ,\n",
       "       2.75, 3.  , 3.25, 3.5 , 3.75, 4.  , 4.25, 4.5 , 4.75, 5.  ])"
      ]
     },
     "execution_count": 43,
     "metadata": {},
     "output_type": "execute_result"
    }
   ],
   "source": [
    "bins2"
   ]
  },
  {
   "cell_type": "code",
   "execution_count": null,
   "metadata": {},
   "outputs": [],
   "source": []
  }
 ],
 "metadata": {
  "interpreter": {
   "hash": "40d3a090f54c6569ab1632332b64b2c03c39dcf918b08424e98f38b5ae0af88f"
  },
  "kernelspec": {
   "display_name": "Python 3.8.3 64-bit ('base': conda)",
   "name": "python3"
  },
  "language_info": {
   "codemirror_mode": {
    "name": "ipython",
    "version": 3
   },
   "file_extension": ".py",
   "mimetype": "text/x-python",
   "name": "python",
   "nbconvert_exporter": "python",
   "pygments_lexer": "ipython3",
   "version": "3.8.3"
  },
  "orig_nbformat": 4
 },
 "nbformat": 4,
 "nbformat_minor": 2
}
