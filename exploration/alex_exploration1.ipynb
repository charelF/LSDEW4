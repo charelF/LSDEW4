{
 "cells": [
  {
   "cell_type": "code",
   "execution_count": 50,
   "source": [
    "import bz2\n",
    "import pandas as pd\n",
    "from matplotlib import pyplot as plt"
   ],
   "outputs": [],
   "metadata": {}
  },
  {
   "cell_type": "code",
   "execution_count": 141,
   "source": [
    "pageviews = pd.read_csv(\"../data/pageviews-20150601-spider.bz2\", delimiter = '\\ ', header=None,\n",
    " names = ['wiki_code', 'article title','access_type', 'daily_total?', 'hourly_counts'], compression='bz2', nrows=100000)\n",
    "\n",
    "\n",
    "clickstream = pd.read_csv(\"../data/clickstream-dewiki-2021-08.tsv.gz\", delimiter = '\\t', header=None, names=[\"1\"], compression='gzip', nrows=100000)\n",
    "\n",
    "unique_devices = pd.read_csv(\"../data/unique_devices_per_domain_daily-2016-01-01.gz\", delimiter = '\\t', header=None, compression='gzip', nrows=100000)"
   ],
   "outputs": [
    {
     "output_type": "stream",
     "name": "stderr",
     "text": [
      "/opt/anaconda3/lib/python3.8/site-packages/pandas/util/_decorators.py:311: ParserWarning: Falling back to the 'python' engine because the 'c' engine does not support regex separators (separators > 1 char and different from '\\s+' are interpreted as regex); you can avoid this warning by specifying engine='python'.\n",
      "  return func(*args, **kwargs)\n"
     ]
    }
   ],
   "metadata": {}
  },
  {
   "cell_type": "code",
   "execution_count": 142,
   "source": [
    "pageviews.tail(10)"
   ],
   "outputs": [
    {
     "output_type": "execute_result",
     "data": {
      "text/html": [
       "<div>\n",
       "<style scoped>\n",
       "    .dataframe tbody tr th:only-of-type {\n",
       "        vertical-align: middle;\n",
       "    }\n",
       "\n",
       "    .dataframe tbody tr th {\n",
       "        vertical-align: top;\n",
       "    }\n",
       "\n",
       "    .dataframe thead th {\n",
       "        text-align: right;\n",
       "    }\n",
       "</style>\n",
       "<table border=\"1\" class=\"dataframe\">\n",
       "  <thead>\n",
       "    <tr style=\"text-align: right;\">\n",
       "      <th></th>\n",
       "      <th>wiki_code</th>\n",
       "      <th>article title</th>\n",
       "      <th>access_type</th>\n",
       "      <th>daily_total?</th>\n",
       "      <th>hourly_counts</th>\n",
       "    </tr>\n",
       "  </thead>\n",
       "  <tbody>\n",
       "    <tr>\n",
       "      <th>99990</th>\n",
       "      <td>an.wikipedia</td>\n",
       "      <td>43_aC</td>\n",
       "      <td>desktop</td>\n",
       "      <td>4</td>\n",
       "      <td>E2F2</td>\n",
       "    </tr>\n",
       "    <tr>\n",
       "      <th>99991</th>\n",
       "      <td>an.wikipedia</td>\n",
       "      <td>44</td>\n",
       "      <td>desktop</td>\n",
       "      <td>1</td>\n",
       "      <td>V1</td>\n",
       "    </tr>\n",
       "    <tr>\n",
       "      <th>99992</th>\n",
       "      <td>an.wikipedia</td>\n",
       "      <td>440</td>\n",
       "      <td>desktop</td>\n",
       "      <td>3</td>\n",
       "      <td>A1J1X1</td>\n",
       "    </tr>\n",
       "    <tr>\n",
       "      <th>99993</th>\n",
       "      <td>an.wikipedia</td>\n",
       "      <td>441</td>\n",
       "      <td>desktop</td>\n",
       "      <td>2</td>\n",
       "      <td>A1B1</td>\n",
       "    </tr>\n",
       "    <tr>\n",
       "      <th>99994</th>\n",
       "      <td>an.wikipedia</td>\n",
       "      <td>442</td>\n",
       "      <td>desktop</td>\n",
       "      <td>2</td>\n",
       "      <td>H1S1</td>\n",
       "    </tr>\n",
       "    <tr>\n",
       "      <th>99995</th>\n",
       "      <td>an.wikipedia</td>\n",
       "      <td>445</td>\n",
       "      <td>desktop</td>\n",
       "      <td>1</td>\n",
       "      <td>C1</td>\n",
       "    </tr>\n",
       "    <tr>\n",
       "      <th>99996</th>\n",
       "      <td>an.wikipedia</td>\n",
       "      <td>446</td>\n",
       "      <td>desktop</td>\n",
       "      <td>1</td>\n",
       "      <td>P1</td>\n",
       "    </tr>\n",
       "    <tr>\n",
       "      <th>99997</th>\n",
       "      <td>an.wikipedia</td>\n",
       "      <td>447</td>\n",
       "      <td>desktop</td>\n",
       "      <td>2</td>\n",
       "      <td>N1S1</td>\n",
       "    </tr>\n",
       "    <tr>\n",
       "      <th>99998</th>\n",
       "      <td>an.wikipedia</td>\n",
       "      <td>448</td>\n",
       "      <td>desktop</td>\n",
       "      <td>4</td>\n",
       "      <td>E1K1P1X1</td>\n",
       "    </tr>\n",
       "    <tr>\n",
       "      <th>99999</th>\n",
       "      <td>an.wikipedia</td>\n",
       "      <td>44_aC</td>\n",
       "      <td>desktop</td>\n",
       "      <td>1</td>\n",
       "      <td>A1</td>\n",
       "    </tr>\n",
       "  </tbody>\n",
       "</table>\n",
       "</div>"
      ],
      "text/plain": [
       "          wiki_code article title access_type  daily_total? hourly_counts\n",
       "99990  an.wikipedia         43_aC     desktop             4          E2F2\n",
       "99991  an.wikipedia            44     desktop             1            V1\n",
       "99992  an.wikipedia           440     desktop             3        A1J1X1\n",
       "99993  an.wikipedia           441     desktop             2          A1B1\n",
       "99994  an.wikipedia           442     desktop             2          H1S1\n",
       "99995  an.wikipedia           445     desktop             1            C1\n",
       "99996  an.wikipedia           446     desktop             1            P1\n",
       "99997  an.wikipedia           447     desktop             2          N1S1\n",
       "99998  an.wikipedia           448     desktop             4      E1K1P1X1\n",
       "99999  an.wikipedia         44_aC     desktop             1            A1"
      ]
     },
     "metadata": {},
     "execution_count": 142
    }
   ],
   "metadata": {}
  },
  {
   "cell_type": "code",
   "execution_count": 143,
   "source": [
    "clickstream.head(10)"
   ],
   "outputs": [
    {
     "output_type": "execute_result",
     "data": {
      "text/html": [
       "<div>\n",
       "<style scoped>\n",
       "    .dataframe tbody tr th:only-of-type {\n",
       "        vertical-align: middle;\n",
       "    }\n",
       "\n",
       "    .dataframe tbody tr th {\n",
       "        vertical-align: top;\n",
       "    }\n",
       "\n",
       "    .dataframe thead th {\n",
       "        text-align: right;\n",
       "    }\n",
       "</style>\n",
       "<table border=\"1\" class=\"dataframe\">\n",
       "  <thead>\n",
       "    <tr style=\"text-align: right;\">\n",
       "      <th></th>\n",
       "      <th></th>\n",
       "      <th></th>\n",
       "      <th>1</th>\n",
       "    </tr>\n",
       "  </thead>\n",
       "  <tbody>\n",
       "    <tr>\n",
       "      <th>Königreich_Jerusalem</th>\n",
       "      <th>Belagerung_von_Askalon</th>\n",
       "      <th>link</th>\n",
       "      <td>12</td>\n",
       "    </tr>\n",
       "    <tr>\n",
       "      <th>19._August</th>\n",
       "      <th>Belagerung_von_Askalon</th>\n",
       "      <th>link</th>\n",
       "      <td>434</td>\n",
       "    </tr>\n",
       "    <tr>\n",
       "      <th>Templerorden</th>\n",
       "      <th>Belagerung_von_Askalon</th>\n",
       "      <th>link</th>\n",
       "      <td>23</td>\n",
       "    </tr>\n",
       "    <tr>\n",
       "      <th>André_de_Montbard</th>\n",
       "      <th>Belagerung_von_Askalon</th>\n",
       "      <th>link</th>\n",
       "      <td>14</td>\n",
       "    </tr>\n",
       "    <tr>\n",
       "      <th>Schlacht_von_Askalon</th>\n",
       "      <th>Belagerung_von_Askalon</th>\n",
       "      <th>link</th>\n",
       "      <td>56</td>\n",
       "    </tr>\n",
       "    <tr>\n",
       "      <th>other-empty</th>\n",
       "      <th>Belagerung_von_Askalon</th>\n",
       "      <th>external</th>\n",
       "      <td>68</td>\n",
       "    </tr>\n",
       "    <tr>\n",
       "      <th>Geschichte_der_Stadt_Aschkelon</th>\n",
       "      <th>Belagerung_von_Askalon</th>\n",
       "      <th>link</th>\n",
       "      <td>22</td>\n",
       "    </tr>\n",
       "    <tr>\n",
       "      <th>other-search</th>\n",
       "      <th>Belagerung_von_Askalon</th>\n",
       "      <th>external</th>\n",
       "      <td>11</td>\n",
       "    </tr>\n",
       "    <tr>\n",
       "      <th>Villeroy_&amp;_Boch</th>\n",
       "      <th>Wendelin_von_Boch-Galhau</th>\n",
       "      <th>link</th>\n",
       "      <td>11</td>\n",
       "    </tr>\n",
       "    <tr>\n",
       "      <th>Linslerhof</th>\n",
       "      <th>Wendelin_von_Boch-Galhau</th>\n",
       "      <th>link</th>\n",
       "      <td>35</td>\n",
       "    </tr>\n",
       "  </tbody>\n",
       "</table>\n",
       "</div>"
      ],
      "text/plain": [
       "                                                                    1\n",
       "Königreich_Jerusalem           Belagerung_von_Askalon   link       12\n",
       "19._August                     Belagerung_von_Askalon   link      434\n",
       "Templerorden                   Belagerung_von_Askalon   link       23\n",
       "André_de_Montbard              Belagerung_von_Askalon   link       14\n",
       "Schlacht_von_Askalon           Belagerung_von_Askalon   link       56\n",
       "other-empty                    Belagerung_von_Askalon   external   68\n",
       "Geschichte_der_Stadt_Aschkelon Belagerung_von_Askalon   link       22\n",
       "other-search                   Belagerung_von_Askalon   external   11\n",
       "Villeroy_&_Boch                Wendelin_von_Boch-Galhau link       11\n",
       "Linslerhof                     Wendelin_von_Boch-Galhau link       35"
      ]
     },
     "metadata": {},
     "execution_count": 143
    }
   ],
   "metadata": {}
  },
  {
   "cell_type": "code",
   "execution_count": 145,
   "source": [
    "unique_devices"
   ],
   "outputs": [
    {
     "output_type": "execute_result",
     "data": {
      "text/html": [
       "<div>\n",
       "<style scoped>\n",
       "    .dataframe tbody tr th:only-of-type {\n",
       "        vertical-align: middle;\n",
       "    }\n",
       "\n",
       "    .dataframe tbody tr th {\n",
       "        vertical-align: top;\n",
       "    }\n",
       "\n",
       "    .dataframe thead th {\n",
       "        text-align: right;\n",
       "    }\n",
       "</style>\n",
       "<table border=\"1\" class=\"dataframe\">\n",
       "  <thead>\n",
       "    <tr style=\"text-align: right;\">\n",
       "      <th></th>\n",
       "      <th>0</th>\n",
       "      <th>1</th>\n",
       "      <th>2</th>\n",
       "      <th>3</th>\n",
       "    </tr>\n",
       "  </thead>\n",
       "  <tbody>\n",
       "    <tr>\n",
       "      <th>0</th>\n",
       "      <td>en.m.wikipedia.org</td>\n",
       "      <td>32623936</td>\n",
       "      <td>4247435</td>\n",
       "      <td>36871371</td>\n",
       "    </tr>\n",
       "    <tr>\n",
       "      <th>1</th>\n",
       "      <td>en.wikipedia.org</td>\n",
       "      <td>13772051</td>\n",
       "      <td>2941841</td>\n",
       "      <td>16713892</td>\n",
       "    </tr>\n",
       "    <tr>\n",
       "      <th>2</th>\n",
       "      <td>ja.m.wikipedia.org</td>\n",
       "      <td>6889772</td>\n",
       "      <td>496878</td>\n",
       "      <td>7386650</td>\n",
       "    </tr>\n",
       "    <tr>\n",
       "      <th>3</th>\n",
       "      <td>de.m.wikipedia.org</td>\n",
       "      <td>4876176</td>\n",
       "      <td>545292</td>\n",
       "      <td>5421468</td>\n",
       "    </tr>\n",
       "    <tr>\n",
       "      <th>4</th>\n",
       "      <td>es.m.wikipedia.org</td>\n",
       "      <td>4134181</td>\n",
       "      <td>783034</td>\n",
       "      <td>4917215</td>\n",
       "    </tr>\n",
       "    <tr>\n",
       "      <th>...</th>\n",
       "      <td>...</td>\n",
       "      <td>...</td>\n",
       "      <td>...</td>\n",
       "      <td>...</td>\n",
       "    </tr>\n",
       "    <tr>\n",
       "      <th>331</th>\n",
       "      <td>ne.m.wikipedia.org</td>\n",
       "      <td>827</td>\n",
       "      <td>196</td>\n",
       "      <td>1023</td>\n",
       "    </tr>\n",
       "    <tr>\n",
       "      <th>332</th>\n",
       "      <td>ro.m.wikisource.org</td>\n",
       "      <td>437</td>\n",
       "      <td>583</td>\n",
       "      <td>1020</td>\n",
       "    </tr>\n",
       "    <tr>\n",
       "      <th>333</th>\n",
       "      <td>hif.m.wikipedia.org</td>\n",
       "      <td>748</td>\n",
       "      <td>267</td>\n",
       "      <td>1015</td>\n",
       "    </tr>\n",
       "    <tr>\n",
       "      <th>334</th>\n",
       "      <td>tr.m.wikibooks.org</td>\n",
       "      <td>281</td>\n",
       "      <td>729</td>\n",
       "      <td>1010</td>\n",
       "    </tr>\n",
       "    <tr>\n",
       "      <th>335</th>\n",
       "      <td>th.m.wiktionary.org</td>\n",
       "      <td>307</td>\n",
       "      <td>701</td>\n",
       "      <td>1008</td>\n",
       "    </tr>\n",
       "  </tbody>\n",
       "</table>\n",
       "<p>336 rows × 4 columns</p>\n",
       "</div>"
      ],
      "text/plain": [
       "                       0         1        2         3\n",
       "0     en.m.wikipedia.org  32623936  4247435  36871371\n",
       "1       en.wikipedia.org  13772051  2941841  16713892\n",
       "2     ja.m.wikipedia.org   6889772   496878   7386650\n",
       "3     de.m.wikipedia.org   4876176   545292   5421468\n",
       "4     es.m.wikipedia.org   4134181   783034   4917215\n",
       "..                   ...       ...      ...       ...\n",
       "331   ne.m.wikipedia.org       827      196      1023\n",
       "332  ro.m.wikisource.org       437      583      1020\n",
       "333  hif.m.wikipedia.org       748      267      1015\n",
       "334   tr.m.wikibooks.org       281      729      1010\n",
       "335  th.m.wiktionary.org       307      701      1008\n",
       "\n",
       "[336 rows x 4 columns]"
      ]
     },
     "metadata": {},
     "execution_count": 145
    }
   ],
   "metadata": {}
  },
  {
   "cell_type": "code",
   "execution_count": 120,
   "source": [
    "print(pageviews[\"wiki_code\"].nunique())\n",
    "print(pageviews[\"article title\"].nunique())\n",
    "print(pageviews[\"access_type\"].nunique())\n",
    "print(pageviews[\"daily_total?\"].nunique())\n",
    "print(pageviews[\"hourly_counts\"].nunique())"
   ],
   "outputs": [
    {
     "output_type": "stream",
     "name": "stdout",
     "text": [
      "21\n",
      "85833\n",
      "2\n",
      "83\n",
      "16418\n"
     ]
    }
   ],
   "metadata": {}
  },
  {
   "cell_type": "code",
   "execution_count": 55,
   "source": [
    "plt.figure(figsize=(8,5))\n",
    "plt.hist(pageviews[\"wiki_code\"])"
   ],
   "outputs": [
    {
     "output_type": "execute_result",
     "data": {
      "text/plain": [
       "(array([  275.,  7842., 54123.,  3932., 21900.,  9616., 28403.,  8183.,\n",
       "          907., 64819.]),\n",
       " array([ 0. ,  2.9,  5.8,  8.7, 11.6, 14.5, 17.4, 20.3, 23.2, 26.1, 29. ]),\n",
       " <BarContainer object of 10 artists>)"
      ]
     },
     "metadata": {},
     "execution_count": 55
    },
    {
     "output_type": "display_data",
     "data": {
      "image/png": "[encoded data removed]",
      "text/plain": [
       "<Figure size 576x360 with 1 Axes>"
      ]
     },
     "metadata": {
      "needs_background": "light"
     }
    }
   ],
   "metadata": {}
  },
  {
   "cell_type": "code",
   "execution_count": 56,
   "source": [
    "plt.figure(figsize=(8,5))\n",
    "plt.hist(pageviews[\"access_type\"])"
   ],
   "outputs": [
    {
     "output_type": "execute_result",
     "data": {
      "text/plain": [
       "(array([164006.,      0.,      0.,      0.,      0.,      0.,      0.,\n",
       "             0.,      0.,  35994.]),\n",
       " array([0. , 0.1, 0.2, 0.3, 0.4, 0.5, 0.6, 0.7, 0.8, 0.9, 1. ]),\n",
       " <BarContainer object of 10 artists>)"
      ]
     },
     "metadata": {},
     "execution_count": 56
    },
    {
     "output_type": "display_data",
     "data": {
      "image/png": "[encoded data removed]",
      "text/plain": [
       "<Figure size 576x360 with 1 Axes>"
      ]
     },
     "metadata": {
      "needs_background": "light"
     }
    }
   ],
   "metadata": {}
  },
  {
   "cell_type": "code",
   "execution_count": null,
   "source": [],
   "outputs": [],
   "metadata": {}
  }
 ],
 "metadata": {
  "orig_nbformat": 4,
  "language_info": {
   "name": "python",
   "version": "3.8.3",
   "mimetype": "text/x-python",
   "codemirror_mode": {
    "name": "ipython",
    "version": 3
   },
   "pygments_lexer": "ipython3",
   "nbconvert_exporter": "python",
   "file_extension": ".py"
  },
  "kernelspec": {
   "name": "python3",
   "display_name": "Python 3.8.3 64-bit ('base': conda)"
  },
  "interpreter": {
   "hash": "dca0ade3e726a953b501b15e8e990130d2b7799f14cfd9f4271676035ebe5511"
  }
 },
 "nbformat": 4,
 "nbformat_minor": 2
}