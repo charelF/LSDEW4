{
 "cells": [
  {
   "cell_type": "code",
   "execution_count": 2,
   "source": [
    "# import pandas as pd"
   ],
   "outputs": [],
   "metadata": {}
  },
  {
   "cell_type": "code",
   "execution_count": 1,
   "source": [
    "# df = pd.read_csv(\"../data/pageviews_monthly_every100\", sep=\" \",read)"
   ],
   "outputs": [],
   "metadata": {}
  },
  {
   "cell_type": "code",
   "execution_count": 8,
   "source": [
    "!cat \"/Users/charelfelten/Library/Mobile Documents/com~apple~CloudDocs/UNI/LSDE/project.nosync/LSDE_2021_W4/data/test2.txt\""
   ],
   "outputs": [
    {
     "output_type": "stream",
     "name": "stdout",
     "text": [
      "als.wikipedia 380-kV-Leitung_Benken-Mettlen 15576 desktop 1 P1\n",
      "als.wikipedia 6._März 45543 desktop 1 B1\n",
      "als.wikipedia 808 64376 desktop 1 P1\n",
      "als.wikipedia A desktop 1 I1\n",
      "als.wikipedia Ada_Lovelace 51323 mobile-web 1 P1\n",
      "als.wikipedia Aggregatszustand 5645 desktop 1 J1\n",
      "als.wikipedia Albbecken 46025 desktop 1 F1\n"
     ]
    }
   ],
   "metadata": {}
  },
  {
   "cell_type": "code",
   "execution_count": 9,
   "source": [
    "# !export a=\n",
    "!grep -E \"^(.*) (.*) (.*) (.*) (.*) (.*)$\" \"/Users/charelfelten/Library/Mobile Documents/com~apple~CloudDocs/UNI/LSDE/project.nosync/LSDE_2021_W4/data/test2.txt\""
   ],
   "outputs": [
    {
     "output_type": "stream",
     "name": "stdout",
     "text": [
      "als.wikipedia 380-kV-Leitung_Benken-Mettlen 15576 desktop 1 P1\n",
      "als.wikipedia 6._März 45543 desktop 1 B1\n",
      "als.wikipedia 808 64376 desktop 1 P1\n",
      "als.wikipedia Ada_Lovelace 51323 mobile-web 1 P1\n",
      "als.wikipedia Aggregatszustand 5645 desktop 1 J1\n",
      "als.wikipedia Albbecken 46025 desktop 1 F1\n"
     ]
    }
   ],
   "metadata": {}
  },
  {
   "cell_type": "code",
   "execution_count": 29,
   "source": [
    "!sed -r \"s/^(.*) (.*) (.*) (.*) (.*) (.*)$/\\1 \\2 \\4 \\5 \\6/g\" \"/Users/charelfelten/Library/Mobile Documents/com~apple~CloudDocs/UNI/LSDE/project.nosync/LSDE_2021_W4/data/test2.txt\""
   ],
   "outputs": [
    {
     "output_type": "stream",
     "name": "stdout",
     "text": [
      "als.wikipedia 380-kV-Leitung_Benken-Mettlen desktop 1 P1\n",
      "als.wikipedia 6._März desktop 1 B1\n",
      "als.wikipedia 808 desktop 1 P1\n",
      "als.wikipedia A desktop 1 I1\n",
      "als.wikipedia Ada_Lovelace mobile-web 1 P1\n",
      "als.wikipedia Aggregatszustand desktop 1 J1\n",
      "als.wikipedia Albbecken desktop 1 F1\n"
     ]
    }
   ],
   "metadata": {}
  },
  {
   "cell_type": "code",
   "execution_count": null,
   "source": [],
   "outputs": [],
   "metadata": {}
  }
 ],
 "metadata": {
  "orig_nbformat": 4,
  "language_info": {
   "name": "python",
   "version": "3.9.7",
   "mimetype": "text/x-python",
   "codemirror_mode": {
    "name": "ipython",
    "version": 3
   },
   "pygments_lexer": "ipython3",
   "nbconvert_exporter": "python",
   "file_extension": ".py"
  },
  "kernelspec": {
   "name": "python3",
   "display_name": "Python 3.9.7 64-bit"
  },
  "interpreter": {
   "hash": "aee8b7b246df8f9039afb4144a1f6fd8d2ca17a180786b69acc140d282b71a49"
  }
 },
 "nbformat": 4,
 "nbformat_minor": 2
}